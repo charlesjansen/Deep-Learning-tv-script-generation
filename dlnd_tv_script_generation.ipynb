{
 "cells": [
  {
   "cell_type": "markdown",
   "metadata": {},
   "source": [
    "# TV Script Generation\n",
    "In this project, you'll generate your own [Simpsons](https://en.wikipedia.org/wiki/The_Simpsons) TV scripts using RNNs.  You'll be using part of the [Simpsons dataset](https://www.kaggle.com/wcukierski/the-simpsons-by-the-data) of scripts from 27 seasons.  The Neural Network you'll build will generate a new TV script for a scene at [Moe's Tavern](https://simpsonswiki.com/wiki/Moe's_Tavern).\n",
    "## Get the Data\n",
    "The data is already provided for you.  You'll be using a subset of the original dataset.  It consists of only the scenes in Moe's Tavern.  This doesn't include other versions of the tavern, like \"Moe's Cavern\", \"Flaming Moe's\", \"Uncle Moe's Family Feed-Bag\", etc.."
   ]
  },
  {
   "cell_type": "code",
   "execution_count": 1,
   "metadata": {
    "collapsed": true
   },
   "outputs": [],
   "source": [
    "\"\"\"\n",
    "DON'T MODIFY ANYTHING IN THIS CELL\n",
    "\"\"\"\n",
    "import helper\n",
    "\n",
    "data_dir = './data/simpsons/moes_tavern_lines.txt'\n",
    "text = helper.load_data(data_dir)\n",
    "# Ignore notice, since we don't use it for analysing the data\n",
    "text = text[81:]"
   ]
  },
  {
   "cell_type": "markdown",
   "metadata": {},
   "source": [
    "## Explore the Data\n",
    "Play around with `view_sentence_range` to view different parts of the data."
   ]
  },
  {
   "cell_type": "code",
   "execution_count": 2,
   "metadata": {
    "collapsed": false
   },
   "outputs": [
    {
     "name": "stdout",
     "output_type": "stream",
     "text": [
      "Dataset Stats\n",
      "Roughly the number of unique words: 11492\n",
      "Number of scenes: 262\n",
      "Average number of sentences in each scene: 15.251908396946565\n",
      "Number of lines: 4258\n",
      "Average number of words in each line: 11.50164396430249\n",
      "\n",
      "The sentences 0 to 10:\n",
      "\n",
      "Moe_Szyslak: (INTO PHONE) Moe's Tavern. Where the elite meet to drink.\n",
      "Bart_Simpson: Eh, yeah, hello, is Mike there? Last name, Rotch.\n",
      "Moe_Szyslak: (INTO PHONE) Hold on, I'll check. (TO BARFLIES) Mike Rotch. Mike Rotch. Hey, has anybody seen Mike Rotch, lately?\n",
      "Moe_Szyslak: (INTO PHONE) Listen you little puke. One of these days I'm gonna catch you, and I'm gonna carve my name on your back with an ice pick.\n",
      "Moe_Szyslak: What's the matter Homer? You're not your normal effervescent self.\n",
      "Homer_Simpson: I got my problems, Moe. Give me another one.\n",
      "Moe_Szyslak: Homer, hey, you should not drink to forget your problems.\n",
      "Barney_Gumble: Yeah, you should only drink to enhance your social skills.\n",
      "\n"
     ]
    }
   ],
   "source": [
    "view_sentence_range = (0, 10)\n",
    "\n",
    "\"\"\"\n",
    "DON'T MODIFY ANYTHING IN THIS CELL\n",
    "\"\"\"\n",
    "import numpy as np\n",
    "\n",
    "print('Dataset Stats')\n",
    "print('Roughly the number of unique words: {}'.format(len({word: None for word in text.split()})))\n",
    "scenes = text.split('\\n\\n')\n",
    "print('Number of scenes: {}'.format(len(scenes)))\n",
    "sentence_count_scene = [scene.count('\\n') for scene in scenes]\n",
    "print('Average number of sentences in each scene: {}'.format(np.average(sentence_count_scene)))\n",
    "\n",
    "sentences = [sentence for scene in scenes for sentence in scene.split('\\n')]\n",
    "print('Number of lines: {}'.format(len(sentences)))\n",
    "word_count_sentence = [len(sentence.split()) for sentence in sentences]\n",
    "print('Average number of words in each line: {}'.format(np.average(word_count_sentence)))\n",
    "\n",
    "print()\n",
    "print('The sentences {} to {}:'.format(*view_sentence_range))\n",
    "print('\\n'.join(text.split('\\n')[view_sentence_range[0]:view_sentence_range[1]]))"
   ]
  },
  {
   "cell_type": "markdown",
   "metadata": {},
   "source": [
    "## Implement Preprocessing Functions\n",
    "The first thing to do to any dataset is preprocessing.  Implement the following preprocessing functions below:\n",
    "- Lookup Table\n",
    "- Tokenize Punctuation\n",
    "\n",
    "### Lookup Table\n",
    "To create a word embedding, you first need to transform the words to ids.  In this function, create two dictionaries:\n",
    "- Dictionary to go from the words to an id, we'll call `vocab_to_int`\n",
    "- Dictionary to go from the id to word, we'll call `int_to_vocab`\n",
    "\n",
    "Return these dictionaries in the following tuple `(vocab_to_int, int_to_vocab)`"
   ]
  },
  {
   "cell_type": "code",
   "execution_count": 3,
   "metadata": {
    "collapsed": false
   },
   "outputs": [
    {
     "name": "stdout",
     "output_type": "stream",
     "text": [
      "Tests Passed\n"
     ]
    }
   ],
   "source": [
    "import numpy as np\n",
    "import problem_unittests as tests\n",
    "from collections import Counter\n",
    "\n",
    "def create_lookup_tables(text):\n",
    "    \"\"\"\n",
    "    Create lookup tables for vocabulary\n",
    "    :param text: The text of tv scripts split into words\n",
    "    :return: A tuple of dicts (vocab_to_int, int_to_vocab)\n",
    "    \"\"\"\n",
    "    # TODO: Implement Function\n",
    "    words_counts = Counter(text)\n",
    "    sorted_vocab = sorted(words_counts, key=words_counts.get, reverse=True)\n",
    "    int_to_vocab = {ii:word for ii, word in enumerate(sorted_vocab)}\n",
    "    vocab_to_int = {word:ii for ii, word in int_to_vocab.items()}\n",
    "    return vocab_to_int, int_to_vocab\n",
    "\n",
    "\n",
    "\"\"\"\n",
    "DON'T MODIFY ANYTHING IN THIS CELL THAT IS BELOW THIS LINE\n",
    "\"\"\"\n",
    "tests.test_create_lookup_tables(create_lookup_tables)"
   ]
  },
  {
   "cell_type": "markdown",
   "metadata": {},
   "source": [
    "# Question 1:\n",
    "\n",
    "in class we use \n",
    "\n",
    "*\n",
    "{ii:word for ii, word in enumerate(sorted_vocab,1)}*\n",
    "\n",
    "yet when I use this here the network won't train.\n",
    "\n",
    "Why do we add this \",1\", why is it supposed to work in class and why doesn't work here?\n",
    "\n",
    "# Question 2:\n",
    "\n",
    "I spent a lot of time on SentimentRNN and adapting it. \n",
    "\n",
    "To be able to use it for prediction I realized I have to give a batch the same size of batch size. Why can't I give only one string_to_int? I think it has something to do with the shape of the LSTM state. Any idea?"
   ]
  },
  {
   "cell_type": "markdown",
   "metadata": {},
   "source": [
    "### Tokenize Punctuation\n",
    "We'll be splitting the script into a word array using spaces as delimiters.  However, punctuations like periods and exclamation marks make it hard for the neural network to distinguish between the word \"bye\" and \"bye!\".\n",
    "\n",
    "Implement the function `token_lookup` to return a dict that will be used to tokenize symbols like \"!\" into \"||Exclamation_Mark||\".  Create a dictionary for the following symbols where the symbol is the key and value is the token:\n",
    "- Period ( . )\n",
    "- Comma ( , )\n",
    "- Quotation Mark ( \" )\n",
    "- Semicolon ( ; )\n",
    "- Exclamation mark ( ! )\n",
    "- Question mark ( ? )\n",
    "- Left Parentheses ( ( )\n",
    "- Right Parentheses ( ) )\n",
    "- Dash ( -- )\n",
    "- Return ( \\n )\n",
    "\n",
    "This dictionary will be used to token the symbols and add the delimiter (space) around it.  This separates the symbols as it's own word, making it easier for the neural network to predict on the next word. Make sure you don't use a token that could be confused as a word. Instead of using the token \"dash\", try using something like \"||dash||\"."
   ]
  },
  {
   "cell_type": "code",
   "execution_count": 4,
   "metadata": {
    "collapsed": false
   },
   "outputs": [
    {
     "name": "stdout",
     "output_type": "stream",
     "text": [
      "Tests Passed\n"
     ]
    }
   ],
   "source": [
    "def token_lookup():\n",
    "    \"\"\"\n",
    "    Generate a dict to turn punctuation into a token.\n",
    "    :return: Tokenize dictionary where the key is the punctuation and the value is the token\n",
    "    \"\"\"\n",
    "    # TODO: Implement Function\n",
    "    punctuation_to_token = {}\n",
    "    punctuation_to_token[\"!\"] = '||EXCLAMATION_MARK||'\n",
    "    punctuation_to_token['\"'] = '||QUOTATION_MARK||'\n",
    "    #punctuation_to_token[\"#\"] = ' ||POUND|| '\n",
    "    #punctuation_to_token[\"$\"] = ' ||DOLAR|| '\n",
    "    #punctuation_to_token[\"%\"] = ' ||PERCENTAGE|| '\n",
    "    #punctuation_to_token[\"&\"] = ' ||AMPERSAND|| '\n",
    "    #punctuation_to_token[\"'\"] = ' ||APOSTROPHE|| '\n",
    "    punctuation_to_token[\"(\"] = '||OPENNING_PARENTHESIS||'\n",
    "    punctuation_to_token[\")\"] = '||CLOSING_PARENTHESIS||'\n",
    "    #punctuation_to_token[\"*\"] = ' ||STAR|| '\n",
    "    #punctuation_to_token[\"+\"] = ' ||PLUS|| '\n",
    "    punctuation_to_token[\",\"] = '||COMMA||'\n",
    "    punctuation_to_token[\"--\"]= '||HYPHENS||'\n",
    "    #punctuation_to_token[\"-\"] = ' ||DASH|| '\n",
    "    punctuation_to_token[\".\"] = '||PERIOD||'\n",
    "    #punctuation_to_token[\"/\"] = ' ||SLASH|| '\n",
    "    #punctuation_to_token[\":\"] = ' ||COLON|| '\n",
    "    punctuation_to_token[\";\"] = '||SEMICOLON||'\n",
    "    #punctuation_to_token[\"<\"] = ' ||LOWER_THAN|| '\n",
    "    #punctuation_to_token[\"=\"] = ' ||EQUAL|| '\n",
    "    #punctuation_to_token[\">\"] = ' ||GREATER_THAN|| '\n",
    "    punctuation_to_token[\"?\"] = '||QUESTION_MARK||'\n",
    "    #punctuation_to_token[\"@\"] = ' ||AT|| '\n",
    "    #punctuation_to_token[\"[\"] = ' ||OPENING_CROCHET|| '\n",
    "    #punctuation_to_token[\"\\\\\"]= ' ||ANTI_SLASH|| '\n",
    "    #punctuation_to_token[\"]\"] = ' ||CLOSING_CROCHET|| '\n",
    "    #punctuation_to_token[\"^\"] = ' ||CIRCONFLEX|| '\n",
    "    #punctuation_to_token[\"_\"] = ' ||UNDERSCORE|| '\n",
    "    #punctuation_to_token[\"`\"] = ' ||OTHER_APOSTROPHE|| '\n",
    "    #punctuation_to_token[\"{\"] = ' ||OPENING_ACCOLADE|| '\n",
    "    #punctuation_to_token[\"|\"] = ' ||STRAIGHT_BAR|| '\n",
    "    #punctuation_to_token[\"}\"] = ' ||CLOSING_ACCOLADE|| '\n",
    "    #punctuation_to_token[\"~\"] = ' ||TILDE|| '\n",
    "    punctuation_to_token[\"\\n\"] = '||NEW_LINE||'\n",
    "    \n",
    "    return punctuation_to_token\n",
    "\n",
    "\"\"\"\n",
    "DON'T MODIFY ANYTHING IN THIS CELL THAT IS BELOW THIS LINE\n",
    "\"\"\"\n",
    "tests.test_tokenize(token_lookup)"
   ]
  },
  {
   "cell_type": "markdown",
   "metadata": {},
   "source": [
    "## Preprocess all the data and save it\n",
    "Running the code cell below will preprocess all the data and save it to file."
   ]
  },
  {
   "cell_type": "code",
   "execution_count": 5,
   "metadata": {
    "collapsed": true
   },
   "outputs": [],
   "source": [
    "\"\"\"\n",
    "DON'T MODIFY ANYTHING IN THIS CELL\n",
    "\"\"\"\n",
    "# Preprocess Training, Validation, and Testing Data\n",
    "helper.preprocess_and_save_data(data_dir, token_lookup, create_lookup_tables)"
   ]
  },
  {
   "cell_type": "markdown",
   "metadata": {},
   "source": [
    "# Check Point\n",
    "This is your first checkpoint. If you ever decide to come back to this notebook or have to restart the notebook, you can start from here. The preprocessed data has been saved to disk."
   ]
  },
  {
   "cell_type": "code",
   "execution_count": 6,
   "metadata": {
    "collapsed": true
   },
   "outputs": [],
   "source": [
    "\"\"\"\n",
    "DON'T MODIFY ANYTHING IN THIS CELL\n",
    "\"\"\"\n",
    "import helper\n",
    "import numpy as np\n",
    "import problem_unittests as tests\n",
    "\n",
    "int_text, vocab_to_int, int_to_vocab, token_dict = helper.load_preprocess()"
   ]
  },
  {
   "cell_type": "markdown",
   "metadata": {},
   "source": [
    "## Build the Neural Network\n",
    "You'll build the components necessary to build a RNN by implementing the following functions below:\n",
    "- get_inputs\n",
    "- get_init_cell\n",
    "- get_embed\n",
    "- build_rnn\n",
    "- build_nn\n",
    "- get_batches\n",
    "\n",
    "### Check the Version of TensorFlow and Access to GPU"
   ]
  },
  {
   "cell_type": "code",
   "execution_count": 7,
   "metadata": {
    "collapsed": false
   },
   "outputs": [
    {
     "name": "stdout",
     "output_type": "stream",
     "text": [
      "TensorFlow Version: 1.0.1\n",
      "Default GPU Device: /gpu:0\n"
     ]
    }
   ],
   "source": [
    "\"\"\"\n",
    "DON'T MODIFY ANYTHING IN THIS CELL\n",
    "\"\"\"\n",
    "from distutils.version import LooseVersion\n",
    "import warnings\n",
    "import tensorflow as tf\n",
    "\n",
    "# Check TensorFlow Version\n",
    "assert LooseVersion(tf.__version__) >= LooseVersion('1.0'), 'Please use TensorFlow version 1.0 or newer'\n",
    "print('TensorFlow Version: {}'.format(tf.__version__))\n",
    "\n",
    "# Check for a GPU\n",
    "if not tf.test.gpu_device_name():\n",
    "    warnings.warn('No GPU found. Please use a GPU to train your neural network.')\n",
    "else:\n",
    "    print('Default GPU Device: {}'.format(tf.test.gpu_device_name()))"
   ]
  },
  {
   "cell_type": "markdown",
   "metadata": {},
   "source": [
    "### Input\n",
    "Implement the `get_inputs()` function to create TF Placeholders for the Neural Network.  It should create the following placeholders:\n",
    "- Input text placeholder named \"input\" using the [TF Placeholder](https://www.tensorflow.org/api_docs/python/tf/placeholder) `name` parameter.\n",
    "- Targets placeholder\n",
    "- Learning Rate placeholder\n",
    "\n",
    "Return the placeholders in the following tuple `(Input, Targets, LearningRate)`"
   ]
  },
  {
   "cell_type": "code",
   "execution_count": 8,
   "metadata": {
    "collapsed": false
   },
   "outputs": [
    {
     "name": "stdout",
     "output_type": "stream",
     "text": [
      "Tests Passed\n"
     ]
    }
   ],
   "source": [
    "def get_inputs():\n",
    "    \"\"\"\n",
    "    Create TF Placeholders for input, targets, and learning rate.\n",
    "    :return: Tuple (input, targets, learning rate)\n",
    "    \"\"\"\n",
    "    # TODO: Implement Function\n",
    "    input_ = tf.placeholder(tf.int32, [None, None], name='input')\n",
    "    targets = tf.placeholder(tf.int32, [None, None], name = 'targets') \n",
    "    learning_rate = tf.placeholder(tf.float32, name=\"learning_rate\") \n",
    "    return input_, targets, learning_rate\n",
    "\n",
    "\n",
    "\"\"\"\n",
    "DON'T MODIFY ANYTHING IN THIS CELL THAT IS BELOW THIS LINE\n",
    "\"\"\"\n",
    "tests.test_get_inputs(get_inputs)"
   ]
  },
  {
   "cell_type": "markdown",
   "metadata": {},
   "source": [
    "### Build RNN Cell and Initialize\n",
    "Stack one or more [`BasicLSTMCells`](https://www.tensorflow.org/api_docs/python/tf/contrib/rnn/BasicLSTMCell) in a [`MultiRNNCell`](https://www.tensorflow.org/api_docs/python/tf/contrib/rnn/MultiRNNCell).\n",
    "- The Rnn size should be set using `rnn_size`\n",
    "- Initalize Cell State using the MultiRNNCell's [`zero_state()`](https://www.tensorflow.org/api_docs/python/tf/contrib/rnn/MultiRNNCell#zero_state) function\n",
    "    - Apply the name \"initial_state\" to the initial state using [`tf.identity()`](https://www.tensorflow.org/api_docs/python/tf/identity)\n",
    "\n",
    "Return the cell and initial state in the following tuple `(Cell, InitialState)`"
   ]
  },
  {
   "cell_type": "code",
   "execution_count": 9,
   "metadata": {
    "collapsed": false
   },
   "outputs": [
    {
     "name": "stdout",
     "output_type": "stream",
     "text": [
      "Tests Passed\n"
     ]
    }
   ],
   "source": [
    "def get_init_cell(batch_size, rnn_size):\n",
    "    \"\"\"\n",
    "    Create an RNN Cell and initialize it.\n",
    "    :param batch_size: Size of batches\n",
    "    :param rnn_size: Size of RNNs\n",
    "    :return: Tuple (cell, initialize state)\n",
    "    \"\"\"\n",
    "    # TODO: Implement Function\n",
    "    lstm = tf.contrib.rnn.BasicLSTMCell(rnn_size)\n",
    "    cell = tf.contrib.rnn.MultiRNNCell([lstm] * 2)\n",
    "    \n",
    "    initial_state = tf.identity(cell.zero_state(batch_size, tf.float32),\n",
    "                                name=\"initial_state\")\n",
    "    \n",
    "    return cell, initial_state\n",
    "\n",
    "\n",
    "\"\"\"\n",
    "DON'T MODIFY ANYTHING IN THIS CELL THAT IS BELOW THIS LINE\n",
    "\"\"\"\n",
    "tests.test_get_init_cell(get_init_cell)"
   ]
  },
  {
   "cell_type": "markdown",
   "metadata": {},
   "source": [
    "### Word Embedding\n",
    "Apply embedding to `input_data` using TensorFlow.  Return the embedded sequence."
   ]
  },
  {
   "cell_type": "code",
   "execution_count": 10,
   "metadata": {
    "collapsed": false
   },
   "outputs": [
    {
     "name": "stdout",
     "output_type": "stream",
     "text": [
      "Tests Passed\n"
     ]
    }
   ],
   "source": [
    "def get_embed(input_data, vocab_size, embed_dim):\n",
    "    \"\"\"\n",
    "    Create embedding for <input_data>.\n",
    "    :param input_data: TF placeholder for text input.\n",
    "    :param vocab_size: Number of words in vocabulary.\n",
    "    :param embed_dim: Number of embedding dimensions\n",
    "    :return: Embedded input.\n",
    "    \"\"\"\n",
    "    # TODO: Implement Function\n",
    "    embedding = tf.Variable(tf.truncated_normal((vocab_size, embed_dim), stddev=0.1))\n",
    "    embedded = tf.nn.embedding_lookup(embedding, input_data)\n",
    "    return embedded\n",
    "\n",
    "\n",
    "\n",
    "\n",
    "\"\"\"\n",
    "return tf.contrib.layers.embed_sequence(input_data, \n",
    "                                            vocab_size=vocab_size, \n",
    "                                            embed_dim=embed_dim)\n",
    "                                            \n",
    "                                            \n",
    "                                            \n",
    "DON'T MODIFY ANYTHING IN THIS CELL THAT IS BELOW THIS LINE\n",
    "\"\"\"\n",
    "tests.test_get_embed(get_embed)"
   ]
  },
  {
   "cell_type": "markdown",
   "metadata": {},
   "source": [
    "### Build RNN\n",
    "You created a RNN Cell in the `get_init_cell()` function.  Time to use the cell to create a RNN.\n",
    "- Build the RNN using the [`tf.nn.dynamic_rnn()`](https://www.tensorflow.org/api_docs/python/tf/nn/dynamic_rnn)\n",
    " - Apply the name \"final_state\" to the final state using [`tf.identity()`](https://www.tensorflow.org/api_docs/python/tf/identity)\n",
    "\n",
    "Return the outputs and final_state state in the following tuple `(Outputs, FinalState)` "
   ]
  },
  {
   "cell_type": "code",
   "execution_count": 11,
   "metadata": {
    "collapsed": false
   },
   "outputs": [
    {
     "name": "stdout",
     "output_type": "stream",
     "text": [
      "Tests Passed\n"
     ]
    }
   ],
   "source": [
    "def build_rnn(cell, inputs):\n",
    "    \"\"\"\n",
    "    Create a RNN using a RNN Cell\n",
    "    :param cell: RNN Cell\n",
    "    :param inputs: Input text data\n",
    "    :return: Tuple (Outputs, Final State)\n",
    "    \"\"\"\n",
    "    # TODO: Implement Function\n",
    "    Outputs, Final_State = tf.nn.dynamic_rnn(cell, inputs, dtype=tf.float32)\n",
    "    Final_State = tf.identity(Final_State, name=\"final_state\")\n",
    "    return Outputs, Final_State\n",
    "\n",
    "\n",
    "\"\"\"\n",
    "DON'T MODIFY ANYTHING IN THIS CELL THAT IS BELOW THIS LINE\n",
    "\"\"\"\n",
    "tests.test_build_rnn(build_rnn)"
   ]
  },
  {
   "cell_type": "markdown",
   "metadata": {},
   "source": [
    "### Build the Neural Network\n",
    "Apply the functions you implemented above to:\n",
    "- Apply embedding to `input_data` using your `get_embed(input_data, vocab_size, embed_dim)` function.\n",
    "- Build RNN using `cell` and your `build_rnn(cell, inputs)` function.\n",
    "- Apply a fully connected layer with a linear activation and `vocab_size` as the number of outputs.\n",
    "\n",
    "Return the logits and final state in the following tuple (Logits, FinalState) "
   ]
  },
  {
   "cell_type": "code",
   "execution_count": 12,
   "metadata": {
    "collapsed": false
   },
   "outputs": [
    {
     "name": "stdout",
     "output_type": "stream",
     "text": [
      "Tests Passed\n"
     ]
    }
   ],
   "source": [
    "def build_nn(cell, rnn_size, input_data, vocab_size, embed_dim):\n",
    "    \"\"\"\n",
    "    Build part of the neural network\n",
    "    :param cell: RNN cell\n",
    "    :param rnn_size: Size of rnns\n",
    "    :param input_data: Input data\n",
    "    :param vocab_size: Vocabulary size\n",
    "    :param embed_dim: Number of embedding dimensions\n",
    "    :return: Tuple (Logits, FinalState)\n",
    "    \"\"\"\n",
    "    # TODO: Implement Function   \n",
    "    embedded = get_embed(input_data, vocab_size, embed_dim)\n",
    "    Outputs, FinalState = build_rnn(cell, embedded)\n",
    "    Logits = tf.contrib.layers.fully_connected(Outputs, vocab_size, activation_fn=None)\n",
    "    #print(rnn_size)\n",
    "    return Logits, FinalState\n",
    "\n",
    "\n",
    "\"\"\"\n",
    "DON'T MODIFY ANYTHING IN THIS CELL THAT IS BELOW THIS LINE\n",
    "\"\"\"\n",
    "tests.test_build_nn(build_nn)"
   ]
  },
  {
   "cell_type": "markdown",
   "metadata": {},
   "source": [
    "### Batches\n",
    "Implement `get_batches` to create batches of input and targets using `int_text`.  The batches should be a Numpy array with the shape `(number of batches, 2, batch size, sequence length)`. Each batch contains two elements:\n",
    "- The first element is a single batch of **input** with the shape `[batch size, sequence length]`\n",
    "- The second element is a single batch of **targets** with the shape `[batch size, sequence length]`\n",
    "\n",
    "If you can't fill the last batch with enough data, drop the last batch.\n",
    "\n",
    "For exmple, `get_batches([1, 2, 3, 4, 5, 6, 7, 8, 9, 10, 11, 12, 13, 14, 15], 2, 3)` would return a Numpy array of the following:\n",
    "```\n",
    "[\n",
    "  # First Batch\n",
    "  [\n",
    "    # Batch of Input\n",
    "    [[ 1  2  3], [ 7  8  9]],\n",
    "    # Batch of targets\n",
    "    [[ 2  3  4], [ 8  9 10]]\n",
    "  ],\n",
    " \n",
    "  # Second Batch\n",
    "  [\n",
    "    # Batch of Input\n",
    "    [[ 4  5  6], [10 11 12]],\n",
    "    # Batch of targets\n",
    "    [[ 5  6  7], [11 12 13]]\n",
    "  ]\n",
    "]\n",
    "```"
   ]
  },
  {
   "cell_type": "code",
   "execution_count": 13,
   "metadata": {
    "collapsed": false
   },
   "outputs": [
    {
     "name": "stdout",
     "output_type": "stream",
     "text": [
      "Tests Passed\n"
     ]
    }
   ],
   "source": [
    "def get_batches(int_text, batch_size, seq_length):\n",
    "    \"\"\"\n",
    "    Return batches of input and target\n",
    "    :param int_text: Text with the words replaced by their ids\n",
    "    :param batch_size: The size of batch\n",
    "    :param seq_length: The length of sequence\n",
    "    :return: Batches as a Numpy array\n",
    "    \"\"\"\n",
    "    # TODO: Implement Function\n",
    "    n_batches = len(int_text)//(batch_size*seq_length)\n",
    "    #print(\"Batch Size\", batch_size)\n",
    "    #print(\"Seq Length\", seq_length)\n",
    "    #print(\"#of Batches\", n_batches)\n",
    "    \n",
    "    #print(np.array(int_text).shape)\n",
    "    #print(\"int_text before cleaning\",len(int_text))\n",
    "    end_text = n_batches*batch_size*seq_length\n",
    "    end_labels = end_text + 1\n",
    "    int_labels = [char_int for char_int in int_text[1:end_labels]]\n",
    "    int_text = [char_int for char_int in int_text[:end_text]]\n",
    "    #print(\"int_text after cleaning\",len(int_text))\n",
    "    #print(\"int_text shape after cleaning\",np.array(int_text).shape)\n",
    "    #print(\"int_labels\", len(int_labels))\n",
    "    #print(\"first 10 int_text  \", int_text[:10])\n",
    "    #print(\"first 10 int_labels\", int_labels[:10])\n",
    "    \n",
    "    batches = []\n",
    "    for b in range(n_batches):\n",
    "        #print(\"*******batch\", b)\n",
    "        batch_int = int_text[b*seq_length*batch_size:\n",
    "                              (b+1)*seq_length*batch_size]\n",
    "        batch_lab = int_labels[b*seq_length*batch_size:(b+1)*seq_length*batch_size]\n",
    "        #print(np.array(batch_int))\n",
    "        #print(\"batch int shape b\",b , \" : \",np.array(batch_int).shape)\n",
    "        \n",
    "        batch_int = [batch_int[x*seq_length:(x+1)*(seq_length)] for x in range(batch_size)]\n",
    "        batch_lab = [batch_lab[x*seq_length:(x+1)*(seq_length)] for x in range(batch_size)]\n",
    "        #print(\"batch int shape b post\",b , \" : \",np.array(batch_int).shape)\n",
    "        #print(\"batch int b post\",np.array(batch_int))\n",
    "        \n",
    "        batch=[batch_int,batch_lab]\n",
    "        batches.append(batch)\n",
    "    batches = np.array(batches)\n",
    "    #print(batches.shape)\n",
    "    #print(batches)\n",
    "        \n",
    "    return batches\n",
    "\n",
    "#get_batches([x for x in range(5000)],128,5)\n",
    "\n",
    "\"\"\"\n",
    "DON'T MODIFY ANYTHING IN THIS CELL THAT IS BELOW THIS LINE\n",
    "\"\"\"\n",
    "tests.test_get_batches(get_batches)"
   ]
  },
  {
   "cell_type": "markdown",
   "metadata": {},
   "source": [
    "## Neural Network Training\n",
    "### Hyperparameters\n",
    "Tune the following parameters:\n",
    "\n",
    "- Set `num_epochs` to the number of epochs.\n",
    "- Set `batch_size` to the batch size.\n",
    "- Set `rnn_size` to the size of the RNNs.\n",
    "- Set `embed_dim` to the size of the embedding.\n",
    "- Set `seq_length` to the length of sequence.\n",
    "- Set `learning_rate` to the learning rate.\n",
    "- Set `show_every_n_batches` to the number of batches the neural network should print progress."
   ]
  },
  {
   "cell_type": "code",
   "execution_count": 14,
   "metadata": {
    "collapsed": true
   },
   "outputs": [],
   "source": [
    "# Number of Epochs\n",
    "num_epochs = 180\n",
    "# Batch Size\n",
    "batch_size = 128\n",
    "# RNN Size\n",
    "rnn_size = 256\n",
    "# Embedding Dimension Size\n",
    "embed_dim = 300\n",
    "# Sequence Length\n",
    "seq_length = 20\n",
    "# Learning Rate\n",
    "learning_rate = 0.01\n",
    "# Show stats for every n number of batches\n",
    "show_every_n_batches = get_batches(int_text, batch_size, seq_length).shape[0]\n",
    "\n",
    "\"\"\"\n",
    "DON'T MODIFY ANYTHING IN THIS CELL THAT IS BELOW THIS LINE\n",
    "\"\"\"\n",
    "save_dir = './save'"
   ]
  },
  {
   "cell_type": "markdown",
   "metadata": {},
   "source": [
    "### Build the Graph\n",
    "Build the graph using the neural network you implemented."
   ]
  },
  {
   "cell_type": "code",
   "execution_count": 15,
   "metadata": {
    "collapsed": true
   },
   "outputs": [],
   "source": [
    "\"\"\"\n",
    "DON'T MODIFY ANYTHING IN THIS CELL\n",
    "\"\"\"\n",
    "from tensorflow.contrib import seq2seq\n",
    "\n",
    "train_graph = tf.Graph()\n",
    "with train_graph.as_default():\n",
    "    vocab_size = len(int_to_vocab)\n",
    "    input_text, targets, lr = get_inputs()\n",
    "    input_data_shape = tf.shape(input_text)\n",
    "    cell, initial_state = get_init_cell(input_data_shape[0], rnn_size)\n",
    "    logits, final_state = build_nn(cell, rnn_size, input_text, vocab_size, embed_dim)\n",
    "\n",
    "    # Probabilities for generating words\n",
    "    probs = tf.nn.softmax(logits, name='probs')\n",
    "\n",
    "    # Loss function\n",
    "    cost = seq2seq.sequence_loss(\n",
    "        logits,\n",
    "        targets,\n",
    "        tf.ones([input_data_shape[0], input_data_shape[1]]))\n",
    "\n",
    "    # Optimizer\n",
    "    optimizer = tf.train.AdamOptimizer(lr)\n",
    "\n",
    "    # Gradient Clipping\n",
    "    gradients = optimizer.compute_gradients(cost)\n",
    "    capped_gradients = [(tf.clip_by_value(grad, -1., 1.), var) for grad, var in gradients]\n",
    "    train_op = optimizer.apply_gradients(capped_gradients)"
   ]
  },
  {
   "cell_type": "markdown",
   "metadata": {},
   "source": [
    "## Train\n",
    "Train the neural network on the preprocessed data.  If you have a hard time getting a good loss, check the [forms](https://discussions.udacity.com/) to see if anyone is having the same problem."
   ]
  },
  {
   "cell_type": "code",
   "execution_count": 16,
   "metadata": {
    "collapsed": false
   },
   "outputs": [
    {
     "name": "stdout",
     "output_type": "stream",
     "text": [
      "Epoch   0 Batch    0/26   train_loss = 8.822\n",
      "Epoch   1 Batch    0/26   train_loss = 6.515\n",
      "Epoch   2 Batch    0/26   train_loss = 6.236\n",
      "Epoch   3 Batch    0/26   train_loss = 6.194\n",
      "Epoch   4 Batch    0/26   train_loss = 6.143\n",
      "Epoch   5 Batch    0/26   train_loss = 5.430\n",
      "Epoch   6 Batch    0/26   train_loss = 4.982\n",
      "Epoch   7 Batch    0/26   train_loss = 4.709\n",
      "Epoch   8 Batch    0/26   train_loss = 4.548\n",
      "Epoch   9 Batch    0/26   train_loss = 4.433\n",
      "Epoch  10 Batch    0/26   train_loss = 4.317\n",
      "Epoch  11 Batch    0/26   train_loss = 4.194\n",
      "Epoch  12 Batch    0/26   train_loss = 4.088\n",
      "Epoch  13 Batch    0/26   train_loss = 3.991\n",
      "Epoch  14 Batch    0/26   train_loss = 3.906\n",
      "Epoch  15 Batch    0/26   train_loss = 3.800\n",
      "Epoch  16 Batch    0/26   train_loss = 3.708\n",
      "Epoch  17 Batch    0/26   train_loss = 3.634\n",
      "Epoch  18 Batch    0/26   train_loss = 3.574\n",
      "Epoch  19 Batch    0/26   train_loss = 3.466\n",
      "Epoch  20 Batch    0/26   train_loss = 3.332\n",
      "Epoch  21 Batch    0/26   train_loss = 3.249\n",
      "Epoch  22 Batch    0/26   train_loss = 3.170\n",
      "Epoch  23 Batch    0/26   train_loss = 3.098\n",
      "Epoch  24 Batch    0/26   train_loss = 2.927\n",
      "Epoch  25 Batch    0/26   train_loss = 2.824\n",
      "Epoch  26 Batch    0/26   train_loss = 2.728\n",
      "Epoch  27 Batch    0/26   train_loss = 2.642\n",
      "Epoch  28 Batch    0/26   train_loss = 2.536\n",
      "Epoch  29 Batch    0/26   train_loss = 2.436\n",
      "Epoch  30 Batch    0/26   train_loss = 2.377\n",
      "Epoch  31 Batch    0/26   train_loss = 2.346\n",
      "Epoch  32 Batch    0/26   train_loss = 2.243\n",
      "Epoch  33 Batch    0/26   train_loss = 2.193\n",
      "Epoch  34 Batch    0/26   train_loss = 2.192\n",
      "Epoch  35 Batch    0/26   train_loss = 2.128\n",
      "Epoch  36 Batch    0/26   train_loss = 2.058\n",
      "Epoch  37 Batch    0/26   train_loss = 1.993\n",
      "Epoch  38 Batch    0/26   train_loss = 1.934\n",
      "Epoch  39 Batch    0/26   train_loss = 1.881\n",
      "Epoch  40 Batch    0/26   train_loss = 1.836\n",
      "Epoch  41 Batch    0/26   train_loss = 1.757\n",
      "Epoch  42 Batch    0/26   train_loss = 1.666\n",
      "Epoch  43 Batch    0/26   train_loss = 1.604\n",
      "Epoch  44 Batch    0/26   train_loss = 1.532\n",
      "Epoch  45 Batch    0/26   train_loss = 1.470\n",
      "Epoch  46 Batch    0/26   train_loss = 1.402\n",
      "Epoch  47 Batch    0/26   train_loss = 1.373\n",
      "Epoch  48 Batch    0/26   train_loss = 1.330\n",
      "Epoch  49 Batch    0/26   train_loss = 1.332\n",
      "Epoch  50 Batch    0/26   train_loss = 1.275\n",
      "Epoch  51 Batch    0/26   train_loss = 1.245\n",
      "Epoch  52 Batch    0/26   train_loss = 1.179\n",
      "Epoch  53 Batch    0/26   train_loss = 1.151\n",
      "Epoch  54 Batch    0/26   train_loss = 1.098\n",
      "Epoch  55 Batch    0/26   train_loss = 1.047\n",
      "Epoch  56 Batch    0/26   train_loss = 1.008\n",
      "Epoch  57 Batch    0/26   train_loss = 0.964\n",
      "Epoch  58 Batch    0/26   train_loss = 0.923\n",
      "Epoch  59 Batch    0/26   train_loss = 0.912\n",
      "Epoch  60 Batch    0/26   train_loss = 0.888\n",
      "Epoch  61 Batch    0/26   train_loss = 0.842\n",
      "Epoch  62 Batch    0/26   train_loss = 0.836\n",
      "Epoch  63 Batch    0/26   train_loss = 0.796\n",
      "Epoch  64 Batch    0/26   train_loss = 0.777\n",
      "Epoch  65 Batch    0/26   train_loss = 0.753\n",
      "Epoch  66 Batch    0/26   train_loss = 0.737\n",
      "Epoch  67 Batch    0/26   train_loss = 0.717\n",
      "Epoch  68 Batch    0/26   train_loss = 0.699\n",
      "Epoch  69 Batch    0/26   train_loss = 0.677\n",
      "Epoch  70 Batch    0/26   train_loss = 0.641\n",
      "Epoch  71 Batch    0/26   train_loss = 0.630\n",
      "Epoch  72 Batch    0/26   train_loss = 0.619\n",
      "Epoch  73 Batch    0/26   train_loss = 0.601\n",
      "Epoch  74 Batch    0/26   train_loss = 0.568\n",
      "Epoch  75 Batch    0/26   train_loss = 0.551\n",
      "Epoch  76 Batch    0/26   train_loss = 0.523\n",
      "Epoch  77 Batch    0/26   train_loss = 0.501\n",
      "Epoch  78 Batch    0/26   train_loss = 0.489\n",
      "Epoch  79 Batch    0/26   train_loss = 0.468\n",
      "Epoch  80 Batch    0/26   train_loss = 0.442\n",
      "Epoch  81 Batch    0/26   train_loss = 0.420\n",
      "Epoch  82 Batch    0/26   train_loss = 0.408\n",
      "Epoch  83 Batch    0/26   train_loss = 0.400\n",
      "Epoch  84 Batch    0/26   train_loss = 0.401\n",
      "Epoch  85 Batch    0/26   train_loss = 0.374\n",
      "Epoch  86 Batch    0/26   train_loss = 0.367\n",
      "Epoch  87 Batch    0/26   train_loss = 0.356\n",
      "Epoch  88 Batch    0/26   train_loss = 0.348\n",
      "Epoch  89 Batch    0/26   train_loss = 0.334\n",
      "Epoch  90 Batch    0/26   train_loss = 0.330\n",
      "Epoch  91 Batch    0/26   train_loss = 0.326\n",
      "Epoch  92 Batch    0/26   train_loss = 0.321\n",
      "Epoch  93 Batch    0/26   train_loss = 0.309\n",
      "Epoch  94 Batch    0/26   train_loss = 0.308\n",
      "Epoch  95 Batch    0/26   train_loss = 0.314\n",
      "Epoch  96 Batch    0/26   train_loss = 0.333\n",
      "Epoch  97 Batch    0/26   train_loss = 0.344\n",
      "Epoch  98 Batch    0/26   train_loss = 0.363\n",
      "Epoch  99 Batch    0/26   train_loss = 0.387\n",
      "Epoch 100 Batch    0/26   train_loss = 0.467\n",
      "Epoch 101 Batch    0/26   train_loss = 0.656\n",
      "Epoch 102 Batch    0/26   train_loss = 1.025\n",
      "Epoch 103 Batch    0/26   train_loss = 1.284\n",
      "Epoch 104 Batch    0/26   train_loss = 1.386\n",
      "Epoch 105 Batch    0/26   train_loss = 1.314\n",
      "Epoch 106 Batch    0/26   train_loss = 1.228\n",
      "Epoch 107 Batch    0/26   train_loss = 1.047\n",
      "Epoch 108 Batch    0/26   train_loss = 0.963\n",
      "Epoch 109 Batch    0/26   train_loss = 0.790\n",
      "Epoch 110 Batch    0/26   train_loss = 0.727\n",
      "Epoch 111 Batch    0/26   train_loss = 0.619\n",
      "Epoch 112 Batch    0/26   train_loss = 0.535\n",
      "Epoch 113 Batch    0/26   train_loss = 0.482\n",
      "Epoch 114 Batch    0/26   train_loss = 0.422\n",
      "Epoch 115 Batch    0/26   train_loss = 0.386\n",
      "Epoch 116 Batch    0/26   train_loss = 0.360\n",
      "Epoch 117 Batch    0/26   train_loss = 0.335\n",
      "Epoch 118 Batch    0/26   train_loss = 0.311\n",
      "Epoch 119 Batch    0/26   train_loss = 0.299\n",
      "Epoch 120 Batch    0/26   train_loss = 0.288\n",
      "Epoch 121 Batch    0/26   train_loss = 0.272\n",
      "Epoch 122 Batch    0/26   train_loss = 0.260\n",
      "Epoch 123 Batch    0/26   train_loss = 0.257\n",
      "Epoch 124 Batch    0/26   train_loss = 0.259\n",
      "Epoch 125 Batch    0/26   train_loss = 0.267\n",
      "Epoch 126 Batch    0/26   train_loss = 0.258\n",
      "Epoch 127 Batch    0/26   train_loss = 0.246\n",
      "Epoch 128 Batch    0/26   train_loss = 0.224\n",
      "Epoch 129 Batch    0/26   train_loss = 0.215\n",
      "Epoch 130 Batch    0/26   train_loss = 0.208\n",
      "Epoch 131 Batch    0/26   train_loss = 0.202\n",
      "Epoch 132 Batch    0/26   train_loss = 0.196\n",
      "Epoch 133 Batch    0/26   train_loss = 0.192\n",
      "Epoch 134 Batch    0/26   train_loss = 0.190\n",
      "Epoch 135 Batch    0/26   train_loss = 0.187\n",
      "Epoch 136 Batch    0/26   train_loss = 0.185\n",
      "Epoch 137 Batch    0/26   train_loss = 0.183\n",
      "Epoch 138 Batch    0/26   train_loss = 0.181\n",
      "Epoch 139 Batch    0/26   train_loss = 0.180\n",
      "Epoch 140 Batch    0/26   train_loss = 0.177\n",
      "Epoch 141 Batch    0/26   train_loss = 0.174\n",
      "Epoch 142 Batch    0/26   train_loss = 0.172\n",
      "Epoch 143 Batch    0/26   train_loss = 0.171\n",
      "Epoch 144 Batch    0/26   train_loss = 0.170\n",
      "Epoch 145 Batch    0/26   train_loss = 0.169\n",
      "Epoch 146 Batch    0/26   train_loss = 0.169\n",
      "Epoch 147 Batch    0/26   train_loss = 0.168\n",
      "Epoch 148 Batch    0/26   train_loss = 0.167\n",
      "Epoch 149 Batch    0/26   train_loss = 0.167\n",
      "Epoch 150 Batch    0/26   train_loss = 0.166\n",
      "Epoch 151 Batch    0/26   train_loss = 0.165\n",
      "Epoch 152 Batch    0/26   train_loss = 0.165\n",
      "Epoch 153 Batch    0/26   train_loss = 0.164\n",
      "Epoch 154 Batch    0/26   train_loss = 0.164\n",
      "Epoch 155 Batch    0/26   train_loss = 0.163\n",
      "Epoch 156 Batch    0/26   train_loss = 0.163\n",
      "Epoch 157 Batch    0/26   train_loss = 0.162\n",
      "Epoch 158 Batch    0/26   train_loss = 0.162\n",
      "Epoch 159 Batch    0/26   train_loss = 0.162\n",
      "Epoch 160 Batch    0/26   train_loss = 0.161\n",
      "Epoch 161 Batch    0/26   train_loss = 0.161\n",
      "Epoch 162 Batch    0/26   train_loss = 0.160\n",
      "Epoch 163 Batch    0/26   train_loss = 0.160\n",
      "Epoch 164 Batch    0/26   train_loss = 0.160\n",
      "Epoch 165 Batch    0/26   train_loss = 0.159\n",
      "Epoch 166 Batch    0/26   train_loss = 0.159\n",
      "Epoch 167 Batch    0/26   train_loss = 0.159\n",
      "Epoch 168 Batch    0/26   train_loss = 0.159\n",
      "Epoch 169 Batch    0/26   train_loss = 0.158\n",
      "Epoch 170 Batch    0/26   train_loss = 0.158\n",
      "Epoch 171 Batch    0/26   train_loss = 0.158\n",
      "Epoch 172 Batch    0/26   train_loss = 0.158\n",
      "Epoch 173 Batch    0/26   train_loss = 0.157\n",
      "Epoch 174 Batch    0/26   train_loss = 0.157\n",
      "Epoch 175 Batch    0/26   train_loss = 0.157\n",
      "Epoch 176 Batch    0/26   train_loss = 0.157\n",
      "Epoch 177 Batch    0/26   train_loss = 0.157\n",
      "Epoch 178 Batch    0/26   train_loss = 0.156\n",
      "Epoch 179 Batch    0/26   train_loss = 0.156\n",
      "Model Trained and Saved\n"
     ]
    }
   ],
   "source": [
    "\"\"\"\n",
    "DON'T MODIFY ANYTHING IN THIS CELL\n",
    "\"\"\"\n",
    "batches = get_batches(int_text, batch_size, seq_length)\n",
    "\n",
    "with tf.Session(graph=train_graph) as sess:\n",
    "    sess.run(tf.global_variables_initializer())\n",
    "\n",
    "    for epoch_i in range(num_epochs):\n",
    "        state = sess.run(initial_state, {input_text: batches[0][0]})\n",
    "\n",
    "        for batch_i, (x, y) in enumerate(batches):\n",
    "            feed = {\n",
    "                input_text: x,\n",
    "                targets: y,\n",
    "                initial_state: state,\n",
    "                lr: learning_rate}\n",
    "            train_loss, state, _ = sess.run([cost, final_state, train_op], feed)\n",
    "\n",
    "            # Show every <show_every_n_batches> batches\n",
    "            if (epoch_i * len(batches) + batch_i) % show_every_n_batches == 0:\n",
    "                print('Epoch {:>3} Batch {:>4}/{}   train_loss = {:.3f}'.format(\n",
    "                    epoch_i,\n",
    "                    batch_i,\n",
    "                    len(batches),\n",
    "                    train_loss))\n",
    "\n",
    "    # Save Model\n",
    "    saver = tf.train.Saver()\n",
    "    saver.save(sess, save_dir)\n",
    "    print('Model Trained and Saved')"
   ]
  },
  {
   "cell_type": "markdown",
   "metadata": {},
   "source": [
    "## Save Parameters\n",
    "Save `seq_length` and `save_dir` for generating a new TV script."
   ]
  },
  {
   "cell_type": "code",
   "execution_count": 17,
   "metadata": {
    "collapsed": true
   },
   "outputs": [],
   "source": [
    "\"\"\"\n",
    "DON'T MODIFY ANYTHING IN THIS CELL\n",
    "\"\"\"\n",
    "# Save parameters for checkpoint\n",
    "helper.save_params((seq_length, save_dir))"
   ]
  },
  {
   "cell_type": "markdown",
   "metadata": {},
   "source": [
    "# Checkpoint"
   ]
  },
  {
   "cell_type": "code",
   "execution_count": 18,
   "metadata": {
    "collapsed": true
   },
   "outputs": [],
   "source": [
    "\"\"\"\n",
    "DON'T MODIFY ANYTHING IN THIS CELL\n",
    "\"\"\"\n",
    "import tensorflow as tf\n",
    "import numpy as np\n",
    "import helper\n",
    "import problem_unittests as tests\n",
    "\n",
    "_, vocab_to_int, int_to_vocab, token_dict = helper.load_preprocess()\n",
    "seq_length, load_dir = helper.load_params()"
   ]
  },
  {
   "cell_type": "markdown",
   "metadata": {},
   "source": [
    "## Implement Generate Functions\n",
    "### Get Tensors\n",
    "Get tensors from `loaded_graph` using the function [`get_tensor_by_name()`](https://www.tensorflow.org/api_docs/python/tf/Graph#get_tensor_by_name).  Get the tensors using the following names:\n",
    "- \"input:0\"\n",
    "- \"initial_state:0\"\n",
    "- \"final_state:0\"\n",
    "- \"probs:0\"\n",
    "\n",
    "Return the tensors in the following tuple `(InputTensor, InitialStateTensor, FinalStateTensor, ProbsTensor)` "
   ]
  },
  {
   "cell_type": "code",
   "execution_count": 19,
   "metadata": {
    "collapsed": false
   },
   "outputs": [
    {
     "name": "stdout",
     "output_type": "stream",
     "text": [
      "Tests Passed\n"
     ]
    }
   ],
   "source": [
    "def get_tensors(loaded_graph):\n",
    "    \"\"\"\n",
    "    Get input, initial state, final state, and probabilities tensor from <loaded_graph>\n",
    "    :param loaded_graph: TensorFlow graph loaded from file\n",
    "    :return: Tuple (InputTensor, InitialStateTensor, FinalStateTensor, ProbsTensor)\n",
    "    \"\"\"\n",
    "    # TODO: Implement Function\n",
    "    InputTensor = loaded_graph.get_tensor_by_name(\"input:0\")\n",
    "    InitialStateTensor = loaded_graph.get_tensor_by_name(\"initial_state:0\")\n",
    "    FinalStateTensor = loaded_graph.get_tensor_by_name(\"final_state:0\")\n",
    "    ProbsTensor = loaded_graph.get_tensor_by_name(\"probs:0\")\n",
    "    return InputTensor, InitialStateTensor, FinalStateTensor, ProbsTensor\n",
    "\n",
    "\n",
    "\"\"\"\n",
    "DON'T MODIFY ANYTHING IN THIS CELL THAT IS BELOW THIS LINE\n",
    "\"\"\"\n",
    "tests.test_get_tensors(get_tensors)"
   ]
  },
  {
   "cell_type": "markdown",
   "metadata": {},
   "source": [
    "### Choose Word\n",
    "Implement the `pick_word()` function to select the next word using `probabilities`."
   ]
  },
  {
   "cell_type": "code",
   "execution_count": 20,
   "metadata": {
    "collapsed": false
   },
   "outputs": [
    {
     "name": "stdout",
     "output_type": "stream",
     "text": [
      "Tests Passed\n"
     ]
    }
   ],
   "source": [
    "def pick_word(probabilities, int_to_vocab):\n",
    "    \"\"\"\n",
    "    Pick the next word in the generated text\n",
    "    :param probabilities: Probabilites of the next word\n",
    "    :param int_to_vocab: Dictionary of word ids as the keys and words as the values\n",
    "    :return: String of the predicted word\n",
    "    \"\"\"\n",
    "    # TODO: Implement Function\n",
    "    #print(probabilities)\n",
    "    #print(int_to_vocab)\n",
    "    int_word = np.argmax(probabilities)\n",
    "    #print(int_word)\n",
    "    return int_to_vocab[int_word]\n",
    "\n",
    "\n",
    "\"\"\"\n",
    "DON'T MODIFY ANYTHING IN THIS CELL THAT IS BELOW THIS LINE\n",
    "\"\"\"\n",
    "tests.test_pick_word(pick_word)"
   ]
  },
  {
   "cell_type": "markdown",
   "metadata": {},
   "source": [
    "## Generate TV Script\n",
    "This will generate the TV script for you.  Set `gen_length` to the length of TV script you want to generate."
   ]
  },
  {
   "cell_type": "code",
   "execution_count": 21,
   "metadata": {
    "collapsed": false
   },
   "outputs": [
    {
     "name": "stdout",
     "output_type": "stream",
     "text": [
      "moe_szyslak:(realizing, to phone) why you! when i--\n",
      "moe_szyslak: when-i-get-a-hold-of-you... oh dammit, guess how much who can put me the new barney?\n",
      "lisa_simpson: nothin' this out of here.\n",
      "moe_szyslak: do you mean what's how to do, i just had a name of my life for this.\n",
      "moe_szyslak:(sighs) you can't be mad at this book ribbon, uh, listen home. maybe this all my family.\n",
      "moe_szyslak:(huge sobs, then) i'm like to go\" back.\n",
      "\n",
      "\n",
      "homer_simpson: two glasses in wine, moe.\n",
      "moe_szyslak: homer, i put my car.\n",
      "homer_simpson:(explaining) ah, that's how that haven't felt\" blue man group?\" total rip-off! my paint around be.\n",
      "lenny_leonard:(matter-of-fact) really?\n",
      "moe_szyslak: i want you to find out who you could come on the other traitors.\n",
      "\n",
      "\n",
      "lenny_leonard: homer, i need a big idea, moe.\n",
      "homer_simpson:(\" rule britannia\" the beat are the ambrosia, on now\n"
     ]
    }
   ],
   "source": [
    "gen_length = 200\n",
    "# homer_simpson, moe_szyslak, or Barney_Gumble\n",
    "prime_word = 'moe_szyslak'\n",
    "\n",
    "\"\"\"\n",
    "DON'T MODIFY ANYTHING IN THIS CELL THAT IS BELOW THIS LINE\n",
    "\"\"\"\n",
    "loaded_graph = tf.Graph()\n",
    "with tf.Session(graph=loaded_graph) as sess:\n",
    "    # Load saved model\n",
    "    loader = tf.train.import_meta_graph(load_dir + '.meta')\n",
    "    loader.restore(sess, load_dir)\n",
    "\n",
    "    # Get Tensors from loaded model\n",
    "    input_text, initial_state, final_state, probs = get_tensors(loaded_graph)\n",
    "\n",
    "    # Sentences generation setup\n",
    "    gen_sentences = [prime_word + ':']\n",
    "    prev_state = sess.run(initial_state, {input_text: np.array([[1]])})\n",
    "\n",
    "    # Generate sentences\n",
    "    for n in range(gen_length):\n",
    "        # Dynamic Input\n",
    "        dyn_input = [[vocab_to_int[word] for word in gen_sentences[-seq_length:]]]\n",
    "        dyn_seq_length = len(dyn_input[0])\n",
    "\n",
    "        # Get Prediction\n",
    "        probabilities, prev_state = sess.run(\n",
    "            [probs, final_state],\n",
    "            {input_text: dyn_input, initial_state: prev_state})\n",
    "        \n",
    "        pred_word = pick_word(probabilities[dyn_seq_length-1], int_to_vocab)\n",
    "\n",
    "        gen_sentences.append(pred_word)\n",
    "    \n",
    "    # Remove tokens\n",
    "    tv_script = ' '.join(gen_sentences)\n",
    "    for key, token in token_dict.items():\n",
    "        ending = ' ' if key in ['\\n', '(', '\"'] else ''\n",
    "        tv_script = tv_script.replace(' ' + token.lower(), key)\n",
    "    tv_script = tv_script.replace('\\n ', '\\n')\n",
    "    tv_script = tv_script.replace('( ', '(')\n",
    "        \n",
    "    print(tv_script)"
   ]
  },
  {
   "cell_type": "markdown",
   "metadata": {},
   "source": [
    "# The TV Script is Nonsensical\n",
    "It's ok if the TV script doesn't make any sense.  We trained on less than a megabyte of text.  In order to get good results, you'll have to use a smaller vocabulary or get more data.  Luckly there's more data!  As we mentioned in the begging of this project, this is a subset of [another dataset](https://www.kaggle.com/wcukierski/the-simpsons-by-the-data).  We didn't have you train on all the data, because that would take too long.  However, you are free to train your neural network on all the data.  After you complete the project, of course.\n",
    "# Submitting This Project\n",
    "When submitting this project, make sure to run all the cells before saving the notebook. Save the notebook file as \"dlnd_tv_script_generation.ipynb\" and save it as a HTML file under \"File\" -> \"Download as\". Include the \"helper.py\" and \"problem_unittests.py\" files in your submission."
   ]
  },
  {
   "cell_type": "code",
   "execution_count": null,
   "metadata": {
    "collapsed": true
   },
   "outputs": [],
   "source": []
  },
  {
   "cell_type": "code",
   "execution_count": null,
   "metadata": {
    "collapsed": true
   },
   "outputs": [],
   "source": []
  }
 ],
 "metadata": {
  "kernelspec": {
   "display_name": "Python 3",
   "language": "python",
   "name": "python3"
  },
  "language_info": {
   "codemirror_mode": {
    "name": "ipython",
    "version": 3
   },
   "file_extension": ".py",
   "mimetype": "text/x-python",
   "name": "python",
   "nbconvert_exporter": "python",
   "pygments_lexer": "ipython3",
   "version": "3.5.2"
  }
 },
 "nbformat": 4,
 "nbformat_minor": 1
}
